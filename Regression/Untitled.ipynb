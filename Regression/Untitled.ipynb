{
 "cells": [
  {
   "cell_type": "code",
   "execution_count": 1,
   "metadata": {},
   "outputs": [],
   "source": [
    "import pandas as pd\n",
    "import numpy as np\n",
    "from math import ceil, floor\n",
    "from sklearn.model_selection import KFold\n",
    "from sklearn.linear_model import Ridge"
   ]
  },
  {
   "cell_type": "code",
   "execution_count": 2,
   "metadata": {},
   "outputs": [],
   "source": [
    "trainData = np.genfromtxt('MNIST_15_15.csv', delimiter=',', dtype=int, skip_header=1)\n",
    "testData = np.genfromtxt('MNIST_LABEL.csv', delimiter=',', dtype=int, skip_header=1)"
   ]
  },
  {
   "cell_type": "code",
   "execution_count": 3,
   "metadata": {},
   "outputs": [
    {
     "data": {
      "text/plain": [
       "(299, 14)"
      ]
     },
     "execution_count": 3,
     "metadata": {},
     "output_type": "execute_result"
    }
   ],
   "source": [
    "(np.genfromtxt('housing_training.csv', delimiter=',', dtype=int, skip_header=1)).shape"
   ]
  },
  {
   "cell_type": "code",
   "execution_count": 26,
   "metadata": {},
   "outputs": [
    {
     "data": {
      "text/plain": [
       "0.9024646166469797"
      ]
     },
     "execution_count": 26,
     "metadata": {},
     "output_type": "execute_result"
    }
   ],
   "source": [
    "clf = Ridge()\n",
    "clf.fit(trainData, testData)\n",
    "clf.score(trainData, testData)"
   ]
  },
  {
   "cell_type": "code",
   "execution_count": 6,
   "metadata": {},
   "outputs": [
    {
     "data": {
      "text/plain": [
       "KFold(n_splits=10, random_state=None, shuffle=False)"
      ]
     },
     "execution_count": 6,
     "metadata": {},
     "output_type": "execute_result"
    }
   ],
   "source": [
    "# print(trainData.shape, trainLabels.shape)\n",
    "kf = KFold(n_splits = 10)\n",
    "kf.get_n_splits(trainData)\n",
    "KFold(n_splits=10, random_state=None, shuffle=False)"
   ]
  },
  {
   "cell_type": "code",
   "execution_count": 239,
   "metadata": {},
   "outputs": [
    {
     "data": {
      "text/plain": [
       "5.457317198860891"
      ]
     },
     "execution_count": 239,
     "metadata": {},
     "output_type": "execute_result"
    }
   ],
   "source": [
    "inf = float(\"inf\")\n",
    "thresholds = [-inf, -0.1, 0, 0.1, inf]\n",
    "accuracy = []\n",
    "true, positive = [], []\n",
    "clf.intercept_"
   ]
  },
  {
   "cell_type": "code",
   "execution_count": 240,
   "metadata": {},
   "outputs": [
    {
     "name": "stdout",
     "output_type": "stream",
     "text": [
      "[0.47058823529411764, 0.47058823529411764, 0.47058823529411764, 0.5294117647058824, 0.5294117647058824, 0.4117647058823529, 0.4117647058823529, 0.4117647058823529, 0.5882352941176471, 0.5882352941176471, 0.6470588235294118, 0.6470588235294118, 0.6470588235294118, 0.3235294117647059, 0.35294117647058826, 0.5294117647058824, 0.5294117647058824, 0.5294117647058824, 0.47058823529411764, 0.47058823529411764, 0.36363636363636365, 0.36363636363636365, 0.36363636363636365, 0.6363636363636364, 0.6363636363636364, 0.45454545454545453, 0.45454545454545453, 0.45454545454545453, 0.5454545454545454, 0.5454545454545454, 0.3333333333333333, 0.3333333333333333, 0.3333333333333333, 0.6666666666666666, 0.6666666666666666, 0.6060606060606061, 0.6060606060606061, 0.6060606060606061, 0.3939393939393939, 0.3939393939393939, 0.48484848484848486, 0.48484848484848486, 0.48484848484848486, 0.5454545454545454, 0.5151515151515151, 0.48484848484848486, 0.48484848484848486, 0.48484848484848486, 0.5151515151515151, 0.5151515151515151]\n"
     ]
    }
   ],
   "source": [
    "for train_index, test_index in kf.split(trainData):\n",
    "    training = trainData[train_index] / 255.0\n",
    "    testing = trainData[test_index] / 255.0\n",
    "    # Min-Max Normalization\n",
    "    train_data = training / 255.0\n",
    "    test_data = testing / 255.0\n",
    "    train_label = testData[train_index]\n",
    "    test_label = testData[test_index]\n",
    "    ones = np.ones(len(train_data))\n",
    "    \n",
    "    lam = 5.457317198860891\n",
    "#     print(lam)\n",
    "    Xt = np.transpose(train_data)\n",
    "    lmbda_inv = lam*np.identity(len(Xt))\n",
    "    theInverse = np.linalg.inv(np.dot(Xt, train_data)+ lmbda_inv)\n",
    "    w = np.dot(np.dot(theInverse, Xt), train_label)\n",
    "    predictions = (np.array(np.dot(test_data, w)))\n",
    "    len_a = sum(test_label == 5)\n",
    "#     print(len_a)\n",
    "    len_b = len(test_label) - len_a\n",
    "    for thresh in thresholds:\n",
    "        tpr = 0\n",
    "        fpr = 0\n",
    "        tnr = 0\n",
    "        fnr = 0\n",
    "        for i, name in enumerate(predictions):\n",
    "            if test_label[i] == 5:\n",
    "                if name >= thresh:\n",
    "                    tpr += 1\n",
    "                else:\n",
    "                    fnr += 1\n",
    "#                 print(ceil(name))\n",
    "            if test_label[i] == 6:\n",
    "                if name < thresh:\n",
    "                    tnr += 1\n",
    "                else:\n",
    "                    fpr += 1\n",
    "#                 print(ceil(name))\n",
    "# #         print(\"\\nThresh :\", thresh)\n",
    "        true.append(float(tpr) / len_a)\n",
    "        positive.append(float(fpr)/ len_b)\n",
    "#         print(tpr, tnr)\n",
    "        accuracy.append((tpr + tnr)/ len(predictions))\n",
    "#         print(len(predictions))\n",
    "                \n",
    "                \n",
    "# print(sum(accuracy) / len(accuracy))\n",
    "print(accuracy)"
   ]
  },
  {
   "cell_type": "code",
   "execution_count": 238,
   "metadata": {},
   "outputs": [
    {
     "data": {
      "text/plain": [
       "0.49573975044563284"
      ]
     },
     "execution_count": 238,
     "metadata": {},
     "output_type": "execute_result"
    }
   ],
   "source": [
    "sum(accuracy) / len(accuracy)"
   ]
  },
  {
   "cell_type": "code",
   "execution_count": 241,
   "metadata": {},
   "outputs": [
    {
     "data": {
      "text/plain": [
       "[1.0,\n",
       " 1.0,\n",
       " 1.0,\n",
       " 0.0,\n",
       " 0.0,\n",
       " 1.0,\n",
       " 1.0,\n",
       " 1.0,\n",
       " 0.0,\n",
       " 0.0,\n",
       " 1.0,\n",
       " 1.0,\n",
       " 1.0,\n",
       " 0.0,\n",
       " 0.0,\n",
       " 1.0,\n",
       " 1.0,\n",
       " 1.0,\n",
       " 0.0,\n",
       " 0.0,\n",
       " 1.0,\n",
       " 1.0,\n",
       " 1.0,\n",
       " 0.0,\n",
       " 0.0,\n",
       " 1.0,\n",
       " 1.0,\n",
       " 1.0,\n",
       " 0.0,\n",
       " 0.0,\n",
       " 1.0,\n",
       " 1.0,\n",
       " 1.0,\n",
       " 0.0,\n",
       " 0.0,\n",
       " 1.0,\n",
       " 1.0,\n",
       " 1.0,\n",
       " 0.0,\n",
       " 0.0,\n",
       " 1.0,\n",
       " 1.0,\n",
       " 1.0,\n",
       " 0.0625,\n",
       " 0.0,\n",
       " 1.0,\n",
       " 1.0,\n",
       " 1.0,\n",
       " 0.0,\n",
       " 0.0]"
      ]
     },
     "execution_count": 241,
     "metadata": {},
     "output_type": "execute_result"
    }
   ],
   "source": [
    "true"
   ]
  },
  {
   "cell_type": "code",
   "execution_count": 242,
   "metadata": {},
   "outputs": [
    {
     "data": {
      "text/plain": [
       "[1.0,\n",
       " 1.0,\n",
       " 1.0,\n",
       " 0.0,\n",
       " 0.0,\n",
       " 1.0,\n",
       " 1.0,\n",
       " 1.0,\n",
       " 0.0,\n",
       " 0.0,\n",
       " 1.0,\n",
       " 1.0,\n",
       " 1.0,\n",
       " 0.08333333333333333,\n",
       " 0.0,\n",
       " 1.0,\n",
       " 1.0,\n",
       " 1.0,\n",
       " 0.0,\n",
       " 0.0,\n",
       " 1.0,\n",
       " 1.0,\n",
       " 1.0,\n",
       " 0.0,\n",
       " 0.0,\n",
       " 1.0,\n",
       " 1.0,\n",
       " 1.0,\n",
       " 0.0,\n",
       " 0.0,\n",
       " 1.0,\n",
       " 1.0,\n",
       " 1.0,\n",
       " 0.0,\n",
       " 0.0,\n",
       " 1.0,\n",
       " 1.0,\n",
       " 1.0,\n",
       " 0.0,\n",
       " 0.0,\n",
       " 1.0,\n",
       " 1.0,\n",
       " 1.0,\n",
       " 0.0,\n",
       " 0.0,\n",
       " 1.0,\n",
       " 1.0,\n",
       " 1.0,\n",
       " 0.0,\n",
       " 0.0]"
      ]
     },
     "execution_count": 242,
     "metadata": {},
     "output_type": "execute_result"
    }
   ],
   "source": [
    "positive"
   ]
  },
  {
   "cell_type": "code",
   "execution_count": 247,
   "metadata": {},
   "outputs": [
    {
     "data": {
      "text/plain": [
       "50"
      ]
     },
     "execution_count": 247,
     "metadata": {},
     "output_type": "execute_result"
    }
   ],
   "source": [
    "len(positive)"
   ]
  },
  {
   "cell_type": "code",
   "execution_count": null,
   "metadata": {},
   "outputs": [],
   "source": []
  },
  {
   "cell_type": "code",
   "execution_count": null,
   "metadata": {},
   "outputs": [],
   "source": []
  },
  {
   "cell_type": "code",
   "execution_count": null,
   "metadata": {},
   "outputs": [],
   "source": []
  }
 ],
 "metadata": {
  "kernelspec": {
   "display_name": "Python 3",
   "language": "python",
   "name": "python3"
  },
  "language_info": {
   "codemirror_mode": {
    "name": "ipython",
    "version": 3
   },
   "file_extension": ".py",
   "mimetype": "text/x-python",
   "name": "python",
   "nbconvert_exporter": "python",
   "pygments_lexer": "ipython3",
   "version": "3.6.5"
  }
 },
 "nbformat": 4,
 "nbformat_minor": 2
}
