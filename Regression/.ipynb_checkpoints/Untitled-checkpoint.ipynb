{
 "cells": [
  {
   "cell_type": "code",
   "execution_count": 1,
   "metadata": {},
   "outputs": [],
   "source": [
    "import pandas as pd\n",
    "import numpy as np\n",
    "from math import ceil, floor\n",
    "from sklearn.model_selection import KFold\n",
    "from sklearn.linear_model import Ridge"
   ]
  },
  {
   "cell_type": "code",
   "execution_count": 2,
   "metadata": {},
   "outputs": [],
   "source": [
    "trainData = np.genfromtxt('MNIST_15_15.csv', delimiter=',', dtype=int, skip_header=1)\n",
    "testData = np.genfromtxt('MNIST_LABEL.csv', delimiter=',', dtype=int, skip_header=1)"
   ]
  },
  {
   "cell_type": "code",
   "execution_count": 3,
   "metadata": {},
   "outputs": [
    {
     "data": {
      "text/plain": [
       "(299, 14)"
      ]
     },
     "execution_count": 3,
     "metadata": {},
     "output_type": "execute_result"
    }
   ],
   "source": [
    "(np.genfromtxt('housing_training.csv', delimiter=',', dtype=int, skip_header=1)).shape"
   ]
  },
  {
   "cell_type": "code",
   "execution_count": 4,
   "metadata": {},
   "outputs": [
    {
     "data": {
      "text/plain": [
       "0.9024646166469797"
      ]
     },
     "execution_count": 4,
     "metadata": {},
     "output_type": "execute_result"
    }
   ],
   "source": [
    "clf = Ridge()\n",
    "clf.fit(trainData, testData)\n",
    "clf.score(trainData, testData)"
   ]
  },
  {
   "cell_type": "code",
   "execution_count": 6,
   "metadata": {},
   "outputs": [
    {
     "data": {
      "text/plain": [
       "KFold(n_splits=10, random_state=None, shuffle=False)"
      ]
     },
     "execution_count": 6,
     "metadata": {},
     "output_type": "execute_result"
    }
   ],
   "source": [
    "# print(trainData.shape, trainLabels.shape)\n",
    "kf = KFold(n_splits = 10)\n",
    "kf.get_n_splits(trainData)\n",
    "KFold(n_splits=10, random_state=None, shuffle=False)"
   ]
  },
  {
   "cell_type": "code",
   "execution_count": 9,
   "metadata": {},
   "outputs": [
    {
     "data": {
      "text/plain": [
       "5.457317198860891"
      ]
     },
     "execution_count": 9,
     "metadata": {},
     "output_type": "execute_result"
    }
   ],
   "source": [
    "inf = float(\"inf\")\n",
    "thresholds = [-inf, -0.1, 0, 0.1, inf]\n",
    "accuracy = []\n",
    "clf.intercept_"
   ]
  },
  {
   "cell_type": "code",
   "execution_count": 10,
   "metadata": {},
   "outputs": [
    {
     "name": "stdout",
     "output_type": "stream",
     "text": [
      "5.457317198860891\n"
     ]
    },
    {
     "ename": "NameError",
     "evalue": "name 'value' is not defined",
     "output_type": "error",
     "traceback": [
      "\u001b[0;31m---------------------------------------------------------------------------\u001b[0m",
      "\u001b[0;31mNameError\u001b[0m                                 Traceback (most recent call last)",
      "\u001b[0;32m<ipython-input-10-f8328f50baed>\u001b[0m in \u001b[0;36m<module>\u001b[0;34m()\u001b[0m\n\u001b[1;32m     20\u001b[0m         \u001b[0mfpr\u001b[0m \u001b[0;34m=\u001b[0m \u001b[0;36m0\u001b[0m\u001b[0;34m\u001b[0m\u001b[0m\n\u001b[1;32m     21\u001b[0m         \u001b[0;32mfor\u001b[0m \u001b[0mi\u001b[0m\u001b[0;34m,\u001b[0m \u001b[0mname\u001b[0m \u001b[0;32min\u001b[0m \u001b[0menumerate\u001b[0m\u001b[0;34m(\u001b[0m\u001b[0mpredictions\u001b[0m\u001b[0;34m)\u001b[0m\u001b[0;34m:\u001b[0m\u001b[0;34m\u001b[0m\u001b[0m\n\u001b[0;32m---> 22\u001b[0;31m             \u001b[0;32mif\u001b[0m \u001b[0mpredictions\u001b[0m\u001b[0;34m[\u001b[0m\u001b[0mvalue\u001b[0m\u001b[0;34m]\u001b[0m \u001b[0;34m>=\u001b[0m \u001b[0mthresh\u001b[0m\u001b[0;34m:\u001b[0m\u001b[0;34m\u001b[0m\u001b[0m\n\u001b[0m\u001b[1;32m     23\u001b[0m                 \u001b[0mtemp\u001b[0m \u001b[0;34m=\u001b[0m \u001b[0;36m5\u001b[0m\u001b[0;34m\u001b[0m\u001b[0m\n\u001b[1;32m     24\u001b[0m                 \u001b[0;32mif\u001b[0m \u001b[0mtemp\u001b[0m \u001b[0;34m==\u001b[0m \u001b[0mfloor\u001b[0m\u001b[0;34m(\u001b[0m\u001b[0mname\u001b[0m\u001b[0;34m)\u001b[0m\u001b[0;34m:\u001b[0m\u001b[0;34m\u001b[0m\u001b[0m\n",
      "\u001b[0;31mNameError\u001b[0m: name 'value' is not defined"
     ]
    }
   ],
   "source": [
    "for train_index, test_index in kf.split(trainData):\n",
    "    training = trainData[train_index]\n",
    "    testing = trainData[test_index]\n",
    "    # Min-Max Normalization\n",
    "    train_data = training / 255.0\n",
    "    test_data = testing / 255.0\n",
    "    train_label = testData[train_index]\n",
    "    test_label = testData[test_index]\n",
    "    ones = np.ones(len(train_data))\n",
    "    \n",
    "    lam = 5.457317198860891\n",
    "    print(lam)\n",
    "    Xt = np.transpose(train_data)\n",
    "    lmbda_inv = lam*np.identity(len(Xt))\n",
    "    theInverse = np.linalg.inv(np.dot(Xt, train_data)+ lmbda_inv)\n",
    "    w = np.dot(np.dot(theInverse, Xt), train_label)\n",
    "    predictions = (np.array(np.dot(test_data, w)))\n",
    "    for thresh in thresholds:\n",
    "        tpr = 0\n",
    "        fpr = 0\n",
    "        for i, name in enumerate(predictions):\n",
    "            if predictions[i] >= thresh:\n",
    "                temp = 5\n",
    "                if temp == floor(name):\n",
    "                    tpr += 1\n",
    "                    continue\n",
    "                fpr += 1\n",
    "#                 print(ceil(name))\n",
    "            if predictions[i] < thresh:\n",
    "                temp = 6\n",
    "                if temp == floor(name):\n",
    "                    tpr += 1\n",
    "                    continue\n",
    "                fpr += 1\n",
    "#                 print(ceil(name))\n",
    "        print(\"\\nThresh :\", thresh)\n",
    "        print(tpr, fpr)\n",
    "        accuracy.append(tpr / len(predictions))\n",
    "                \n",
    "                \n",
    "        "
   ]
  },
  {
   "cell_type": "code",
   "execution_count": null,
   "metadata": {},
   "outputs": [],
   "source": []
  }
 ],
 "metadata": {
  "kernelspec": {
   "display_name": "Python 3",
   "language": "python",
   "name": "python3"
  },
  "language_info": {
   "codemirror_mode": {
    "name": "ipython",
    "version": 3
   },
   "file_extension": ".py",
   "mimetype": "text/x-python",
   "name": "python",
   "nbconvert_exporter": "python",
   "pygments_lexer": "ipython3",
   "version": "3.6.5"
  }
 },
 "nbformat": 4,
 "nbformat_minor": 2
}
